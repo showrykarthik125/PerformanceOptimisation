{
 "cells": [
  {
   "cell_type": "code",
   "execution_count": 0,
   "metadata": {
    "application/vnd.databricks.v1+cell": {
     "cellMetadata": {
      "byteLimit": 2048000,
      "rowLimit": 10000
     },
     "inputWidgets": {},
     "nuid": "66107a1b-64fc-4901-9e55-13e6e5fc5ff0",
     "showTitle": false,
     "tableResultSettingsMap": {},
     "title": ""
    }
   },
   "outputs": [],
   "source": [
    "from pyspark.sql.types import IntegerType\n",
    "df = spark.createDataFrame(range(10000),IntegerType())"
   ]
  },
  {
   "cell_type": "code",
   "execution_count": 0,
   "metadata": {
    "application/vnd.databricks.v1+cell": {
     "cellMetadata": {
      "byteLimit": 2048000,
      "rowLimit": 10000
     },
     "inputWidgets": {},
     "nuid": "ea349733-9ebe-46e7-be5a-9cb84e552351",
     "showTitle": false,
     "tableResultSettingsMap": {},
     "title": ""
    }
   },
   "outputs": [
    {
     "output_type": "stream",
     "name": "stdout",
     "output_type": "stream",
     "text": [
      "Default Partitions:  8\n"
     ]
    }
   ],
   "source": [
    "print(\"Default Partitions: \", df.rdd.getNumPartitions())"
   ]
  },
  {
   "cell_type": "code",
   "execution_count": 0,
   "metadata": {
    "application/vnd.databricks.v1+cell": {
     "cellMetadata": {
      "byteLimit": 2048000,
      "rowLimit": 10000
     },
     "inputWidgets": {},
     "nuid": "81140f5f-7bb6-40fb-a926-8a47232925f1",
     "showTitle": false,
     "tableResultSettingsMap": {},
     "title": ""
    }
   },
   "outputs": [
    {
     "output_type": "stream",
     "name": "stdout",
     "output_type": "stream",
     "text": [
      "Out[3]: [[Row(value=0),\n  Row(value=1),\n  Row(value=2),\n  Row(value=3),\n  Row(value=4),\n  Row(value=5),\n  Row(value=6),\n  Row(value=7),\n  Row(value=8),\n  Row(value=9),\n  Row(value=10),\n  Row(value=11),\n  Row(value=12),\n  Row(value=13),\n  Row(value=14),\n  Row(value=15),\n  Row(value=16),\n  Row(value=17),\n  Row(value=18),\n  Row(value=19),\n  Row(value=20),\n  Row(value=21),\n  Row(value=22),\n  Row(value=23),\n  Row(value=24),\n  Row(value=25),\n  Row(value=26),\n  Row(value=27),\n  Row(value=28),\n  Row(value=29),\n  Row(value=30),\n  Row(value=31),\n  Row(value=32),\n  Row(value=33),\n  Row(value=34),\n  Row(value=35),\n  Row(value=36),\n  Row(value=37),\n  Row(value=38),\n  Row(value=39),\n  Row(value=40),\n  Row(value=41),\n  Row(value=42),\n  Row(value=43),\n  Row(value=44),\n  Row(value=45),\n  Row(value=46),\n  Row(value=47),\n  Row(value=48),\n  Row(value=49),\n  Row(value=50),\n  Row(value=51),\n  Row(value=52),\n  Row(value=53),\n  Row(value=54),\n  Row(value=55),\n  Row(value=56),\n  Row(value=57),\n  Row(value=58),\n  Row(value=59),\n  Row(value=60),\n  Row(value=61),\n  Row(value=62),\n  Row(value=63),\n  Row(value=64),\n  Row(value=65),\n  Row(value=66),\n  Row(value=67),\n  Row(value=68),\n  Row(value=69),\n  Row(value=70),\n  Row(value=71),\n  Row(value=72),\n  Row(value=73),\n  Row(value=74),\n  Row(value=75),\n  Row(value=76),\n  Row(value=77),\n  Row(value=78),\n  Row(value=79),\n  Row(value=80),\n  Row(value=81),\n  Row(value=82),\n  Row(value=83),\n  Row(value=84),\n  Row(value=85),\n  Row(value=86),\n  Row(value=87),\n  Row(value=88),\n  Row(value=89),\n  Row(value=90),\n  Row(value=91),\n  Row(value=92),\n  Row(value=93),\n  Row(value=94),\n  Row(value=95),\n  Row(value=96),\n  Row(value=97),\n  Row(value=98),\n  Row(value=99),\n  Row(value=100),\n  Row(value=101),\n  Row(value=102),\n  Row(value=103),\n  Row(value=104),\n  Row(value=105),\n  Row(value=106),\n  Row(value=107),\n  Row(value=108),\n  Row(value=109),\n  Row(value=110),\n  Row(value=111),\n  Row(value=112),\n  Row(value=113),\n  Row(value=114),\n  Row(value=115),\n  Row(value=116),\n  Row(value=117),\n  Row(value=118),\n  Row(value=119),\n  Row(value=120),\n  Row(value=121),\n  Row(value=122),\n  Row(value=123),\n  Row(value=124),\n  Row(value=125),\n  Row(value=126),\n  Row(value=127),\n  Row(value=128),\n  Row(value=129),\n  Row(value=130),\n  Row(value=131),\n  Row(value=132),\n  Row(value=133),\n  Row(value=134),\n  Row(value=135),\n  Row(value=136),\n  Row(value=137),\n  Row(value=138),\n  Row(value=139),\n  Row(value=140),\n  Row(value=141),\n  Row(value=142),\n  Row(value=143),\n  Row(value=144),\n  Row(value=145),\n  Row(value=146),\n  Row(value=147),\n  Row(value=148),\n  Row(value=149),\n  Row(value=150),\n  Row(value=151),\n  Row(value=152),\n  Row(value=153),\n  Row(value=154),\n  Row(value=155),\n  Row(value=156),\n  Row(value=157),\n  Row(value=158),\n  Row(value=159),\n  Row(value=160),\n  Row(value=161),\n  Row(value=162),\n  Row(value=163),\n  Row(value=164),\n  Row(value=165),\n  Row(value=166),\n  Row(value=167),\n  Row(value=168),\n  Row(value=169),\n  Row(value=170),\n  Row(value=171),\n  Row(value=172),\n  Row(value=173),\n  Row(value=174),\n  Row(value=175),\n  Row(value=176),\n  Row(value=177),\n  Row(value=178),\n  Row(value=179),\n  Row(value=180),\n  Row(value=181),\n  Row(value=182),\n  Row(value=183),\n  Row(value=184),\n  Row(value=185),\n  Row(value=186),\n  Row(value=187),\n  Row(value=188),\n  Row(value=189),\n  Row(value=190),\n  Row(value=191),\n  Row(value=192),\n  Row(value=193),\n  Row(value=194),\n  Row(value=195),\n  Row(value=196),\n  Row(value=197),\n  Row(value=198),\n  Row(value=199),\n  Row(value=200),\n  Row(value=201),\n  Row(value=202),\n  Row(value=203),\n  Row(value=204),\n  Row(value=205),\n  Row(value=206),\n  Row(value=207),\n  Row(value=208),\n  Row(value=209),\n  Row(value=210),\n  Row(value=211),\n  Row(value=212),\n  Row(value=213),\n  Row(value=214),\n  Row(value=215),\n  Row(value=216),\n  Row(value=217),\n  Row(value=218),\n  Row(value=219),\n  Row(value=220),\n  Row(value=221),\n  Row(value=222),\n  Row(value=223),\n  Row(value=224),\n  Row(value=225),\n  Row(value=226),\n  Row(value=227),\n  Row(value=228),\n  Row(value=229),\n  Row(value=230),\n  Row(value=231),\n  Row(value=232),\n  Row(value=233),\n  Row(value=234),\n  Row(value=235),\n  Row(value=236),\n  Row(value=237),\n  Row(value=238),\n  Row(value=239),\n  Row(value=240),\n  Row(value=241),\n  Row(value=242),\n  Row(value=243),\n  Row(value=244),\n  Row(value=245),\n  Row(value=246),\n  Row(value=247),\n  Row(value=248),\n  Row(value=249),\n  Row(value=250),\n  Row(value=251),\n  Row(value=252),\n  Row(value=253),\n  Row(value=254),\n  Row(value=255),\n  Row(value=256),\n  Row(value=257),\n  Row(value=258),\n  Row(value=259),\n  Row(value=260),\n  Row(value=261),\n  Row(value=262),\n  Row(value=263),\n  Row(value=264),\n  Row(value=265),\n  Row(value=266),\n  Row(value=267),\n  Row(value=268),\n  Row(value=269),\n  Row(value=270),\n  Row(value=271),\n  Row(value=272),\n  Row(value=273),\n  Row(value=274),\n  Row(value=275),\n  Row(value=276),\n  Row(value=277),\n  Row(value=278),\n  Row(value=279),\n  Row(value=280),\n  Row(value=281),\n  Row(value=282),\n  Row(value=283),\n  Row(value=284),\n  Row(value=285),\n  Row(value=286),\n  Row(value=287),\n  Row(value=288),\n  Row(value=289),\n  Row(value=290),\n  Row(value=291),\n  Row(value=292),\n  Row(value=293),\n  Row(value=294),\n  Row(value=295),\n  Row(value=296),\n  Row(value=297),\n  Row(value=298),\n  Row(value=299),\n  Row(value=300),\n  Row(value=301),\n  Row(value=302),\n  Row(value=303),\n  Row(value=304),\n  Row(value=305),\n  Row(value=306),\n  Row(value=307),\n  Row(value=308),\n  Row(value=309),\n  Row(value=310),\n  Row(value=311),\n  Row(value=312),\n  Row(value=313),\n  Row(value=314),\n  Row(value=315),\n  Row(value=316),\n  Row(value=317),\n  Row(value=318),\n  Row(value=319),\n  Row(value=320),\n  Row(value=321),\n  Row(value=322),\n  Row(value=323),\n  Row(value=324),\n  Row(value=325),\n  Row(value=326),\n  Row(value=327),\n  Row(value=328),\n  Row(value=329),\n  Row(value=330),\n  Row(value=331),\n  Row(value=332),\n  Row(value=333),\n  Row(value=334),\n  Row(value=335),\n  Row(value=336),\n  Row(value=337),\n  Row(value=338),\n  Row(value=339),\n  Row(value=340),\n  Row(value=341),\n  Row(value=342),\n  Row(value=343),\n  Row(value=344),\n  Row(value=345),\n  Row(value=346),\n  Row(value=347),\n  Row(value=348),\n  Row(value=349),\n  Row(value=350),\n  Row(value=351),\n  Row(value=352),\n  Row(value=353),\n  Row(value=354),\n  Row(value=355),\n  Row(value=356),\n  Row(value=357),\n  Row(value=358),\n  Row(value=359),\n  Row(value=360),\n  Row(value=361),\n  Row(value=362),\n  Row(value=363),\n  Row(value=364),\n  Row(value=365),\n  Row(value=366),\n  Row(value=367),\n  Row(value=368),\n  Row(value=369),\n  Row(value=370),\n  Row(value=371),\n  Row(value=372),\n  Row(value=373),\n  Row(value=374),\n  Row(value=375),\n  Row(value=376),\n  Row(value=377),\n  Row(value=378),\n  Row(value=379),\n  Row(value=380),\n  Row(value=381),\n  Row(value=382),\n  Row(value=383),\n  Row(value=384),\n  Row(value=385),\n  Row(value=386),\n  Row(value=387),\n  Row(value=388),\n  Row(value=389),\n  Row(value=390),\n  Row(value=391),\n  Row(value=392),\n  Row(value=393),\n  Row(value=394),\n  Row(value=395),\n  Row(value=396),\n  Row(value=397),\n  Row(value=398),\n  Row(value=399),\n  Row(value=400),\n  Row(value=401),\n  Row(value=402),\n  Row(value=403),\n  Row(value=404),\n  Row(value=405),\n  Row(value=406),\n  Row(value=407),\n  Row(value=408),\n  Row(value=409),\n  Row(value=410),\n  Row(value=411),\n  Row(value=412),\n  Row(value=413),\n  Row(value=414),\n  Row(value=415),\n  Row(value=416),\n  Row(value=417),\n  Row(value=418),\n  Row(value=419),\n  Row(value=420),\n  Row(value=421),\n  Row(value=422),\n  Row(value=423),\n  Row(value=424),\n  Row(value=425),\n  Row(value=426),\n  Row(value=427),\n  Row(value=428),\n  Row(value=429),\n  Row(value=430),\n  Row(value=431),\n  Row(value=432),\n  Row(value=433),\n  Row(value=434),\n  Row(value=435),\n  Row(value=436),\n  Row(value=437),\n  Row(value=438),\n  Row(value=439),\n  Row(value=440),\n  Row(value=441),\n  Row(value=442),\n  Row(value=443),\n  Row(value=444),\n  Row(value=445),\n  Row(value=446),\n  Row(value=447),\n  Row(value=448),\n  Row(value=449),\n  Row(value=450),\n  Row(value=451),\n  Row(value=452),\n  Row(value=453),\n  Row(value=454),\n  Row(value=455),\n  Row(value=456),\n  Row(value=457),\n  Row(value=458),\n  Row(value=459),\n  Row(value=460),\n  Row(value=461),\n  Row(value=462),\n  Row(value=463),\n  Row(value=464),\n  Row(value=465),\n  Row(value=466),\n  Row(value=467),\n  Row(value=468),\n  Row(value=469),\n  Row(value=470),\n  Row(value=471),\n  Row(value=472),\n  Row(value=473),\n  Row(value=474),\n  Row(value=475),\n  Row(value=476),\n  Row(value=477),\n  Row(value=478),\n  Row(value=479),\n  Row(value=480),\n  Row(value=481),\n  Row(value=482),\n  Row(value=483),\n  Row(value=484),\n  Row(value=485),\n  Row(value=486),\n  Row(value=487),\n  Row(value=488),\n  Row(value=489),\n  Row(value=490),\n  Row(value=491),\n  Row(value=492),\n  Row(value=493),\n  Row(value=494),\n  Row(value=495),\n  Row(value=496),\n  Row(value=497),\n  Row(value=498),\n  Row(value=499),\n  Row(value=500),\n  Row(value=501),\n  Row(value=502),\n  Row(value=503),\n  Row(value=504),\n  Row(value=505),\n  Row(value=506),\n  Row(value=507),\n  Row(value=508),\n  Row(value=509),\n  Row(value=510),\n  Row(value=511),\n  Row(value=512),\n  Row(value=513),\n  Row(value=514),\n  Row(value=515),\n  Row(value=516),\n  Row(value=517),\n  Row(value=518),\n  Row(value=519),\n  Row(value=520),\n  Row(value=521),\n  Row(value=522),\n  Row(value=523),\n  Row(value=524),\n  Row(value=525),\n  Row(value=526),\n  Row(value=527),\n  Row(value=528),\n  Row(value=529),\n  Row(value=530),\n  Row(value=531),\n  Row(value=532),\n  Row(value=533),\n  Row(value=534),\n  Row(value=535),\n  Row(value=536),\n  Row(value=537),\n  Row(value=538),\n  Row(value=539),\n  Row(value=540),\n  Row(value=541),\n  Row(value=542),\n  Row(value=543),\n  Row(value=544),\n  Row(value=545),\n  Row(value=546),\n  Row(value=547),\n  Row(value=548),\n  Row(value=549),\n  Row(value=550),\n  Row(value=551),\n  Row(value=552),\n  Row(value=553),\n  Row(value=554),\n  Row(value=555),\n  Row(value=556),\n  Row(value=557),\n  Row(value=558),\n  Row(value=559),\n  Row(value=560),\n  Row(value=561),\n  Row(value=562),\n  Row(value=563),\n  Row(value=564),\n  Row(value=565),\n  Row(value=566),\n  Row(value=567),\n  Row(value=568),\n  Row(value=569),\n  Row(value=570),\n  Row(value=571),\n  Row(value=572),\n  Row(value=573),\n  Row(value=574),\n  Row(value=575),\n  Row(value=576),\n  Row(value=577),\n  Row(value=578),\n  Row(value=579),\n  Row(value=580),\n  Row(value=581),\n  Row(value=582),\n  Row(value=583),\n  Row(value=584),\n  Row(value=585),\n  Row(value=586),\n  Row(value=587),\n  Row(value=588),\n  Row(value=589),\n  Row(value=590),\n  Row(value=591),\n  Row(value=592),\n  Row(value=593),\n  Row(value=594),\n  Row(value=595),\n  Row(value=596),\n  Row(value=597),\n  Row(value=598),\n  Row(value=599),\n  Row(value=600),\n  Row(value=601),\n  Row(value=602),\n  Row(value=603),\n  Row(value=604),\n  Row(value=605),\n  Row(value=606),\n  Row(value=607),\n  Row(value=608),\n  Row(value=609),\n  Row(value=610),\n  Row(value=611),\n  Row(value=612),\n  Row(value=613),\n  Row(value=614),\n  Row(value=615),\n  Row(value=616),\n  Row(value=617),\n  Row(value=618),\n  Row(value=619),\n  Row(value=620),\n  Row(value=621),\n  Row(value=622),\n  Row(value=623),\n  Row(value=624),\n  Row(value=625),\n  Row(value=626),\n  Row(value=627),\n  Row(value=628),\n  Row(value=629),\n  Row(value=630),\n  Row(value=631),\n  Row(value=632),\n  Row(value=633),\n  Row(value=634),\n  Row(value=635),\n  Row(value=636),\n  Row(value=637),\n  Row(value=638),\n  Row(value=639),\n  Row(value=640),\n  Row(value=641),\n  Row(value=642),\n  Row(value=643),\n  Row(value=644),\n  Row(value=645),\n  Row(value=646),\n  Row(value=647),\n  Row(value=648),\n  Row(value=649),\n  Row(value=650),\n  Row(value=651),\n  Row(value=652),\n  Row(value=653),\n  Row(value=654),\n  Row(value=655),\n  Row(value=656),\n  Row(value=657),\n  Row(value=658),\n  Row(value=659),\n  Row(value=660),\n  Row(value=661),\n  Row(value=662),\n  Row(value=663),\n  Row(value=664),\n  Row(value=665),\n  Row(value=666),\n  Row(value=667),\n  Row(value=668),\n  Row(value=669),\n  Row(value=670),\n  Row(value=671),\n  Row(value=672),\n  Row(value=673),\n  Row(value=674),\n  Row(value=675),\n  Row(value=676),\n  Row(value=677),\n  Row(value=678),\n  Row(value=679),\n  Row(value=680),\n  Row(value=681),\n  Row(value=682),\n  Row(value=683),\n  Row(value=684),\n  Row(value=685),\n  Row(value=686),\n  Row(value=687),\n  Row(value=688),\n  Row(value=689),\n  Row(value=690),\n  Row(value=691),\n  Row(value=692),\n  Row(value=693),\n  Row(value=694),\n  Row(value=695),\n  Row(value=696),\n  Row(value=697),\n  Row(value=698),\n  Row(value=699),\n  Row(value=700),\n  Row(value=701),\n  Row(value=702),\n  Row(value=703),\n  Row(value=704),\n  Row(value=705),\n  Row(value=706),\n  Row(value=707),\n  Row(value=708),\n  Row(value=709),\n  Row(value=710),\n  Row(value=711),\n  Row(value=712),\n  Row(value=713),\n  Row(value=714),\n  Row(value=715),\n  Row(value=716),\n  Row(value=717),\n  Row(value=718),\n  Row(value=719),\n  Row(value=720),\n  Row(value=721),\n  Row(value=722),\n  Row(value=723),\n  Row(value=724),\n  Row(value=725),\n  Row(value=726),\n  Row(value=727),\n  Row(value=728),\n  Row(value=729),\n  Row(value=730),\n  Row(value=731),\n  Row(value=732),\n  Row(value=733),\n  Row(value=734),\n  Row(value=735),\n  Row(value=736),\n  Row(value=737),\n  Row(value=738),\n  Row(value=739),\n  Row(value=740),\n  Row(value=741),\n  Row(value=742),\n  Row(value=743),\n  Row(value=744),\n  Row(value=745),\n  Row(value=746),\n  Row(value=747),\n  Row(value=748),\n  Row(value=749),\n  Row(value=750),\n  Row(value=751),\n  Row(value=752),\n  Row(value=753),\n  Row(value=754),\n  Row(value=755),\n  Row(value=756),\n  Row(value=757),\n  Row(value=758),\n  Row(value=759),\n  Row(value=760),\n  Row(value=761),\n  Row(value=762),\n  Row(value=763),\n  Row(value=764),\n  Row(value=765),\n  Row(value=766),\n  Row(value=767),\n  Row(value=768),\n  Row(value=769),\n  Row(value=770),\n  Row(value=771),\n  Row(value=772),\n  Row(value=773),\n  Row(value=774),\n  Row(value=775),\n  Row(value=776),\n  Row(value=777),\n  Row(value=778),\n  Row(value=779),\n  Row(value=780),\n  Row(value=781),\n  Row(value=782),\n  Row(value=783),\n  Row(value=784),\n  Row(value=785),\n  Row(value=786),\n  Row(value=787),\n  Row(value=788),\n  Row(value=789),\n  Row(value=790),\n  Row(value=791),\n  Row(value=792),\n  Row(value=793),\n  Row(value=794),\n  Row(value=795),\n  Row(value=796),\n  Row(value=797),\n  Row(value=798),\n  Row(value=799),\n  Row(value=800),\n  Row(value=801),\n  Row(value=802),\n  Row(value=803),\n  Row(value=804),\n  Row(value=805),\n  Row(value=806),\n  Row(value=807),\n  Row(value=808),\n  Row(value=809),\n  Row(value=810),\n  Row(value=811),\n  Row(value=812),\n  Row(value=813),\n  Row(value=814),\n  Row(value=815),\n  Row(value=816),\n  Row(value=817),\n  Row(value=818),\n  Row(value=819),\n  Row(value=820),\n  Row(value=821),\n  Row(value=822),\n  Row(value=823),\n  Row(value=824),\n  Row(value=825),\n  Row(value=826),\n  Row(value=827),\n  Row(value=828),\n  Row(value=829),\n  Row(value=830),\n  Row(value=831),\n  Row(value=832),\n  Row(value=833),\n  Row(value=834),\n  Row(value=835),\n  Row(value=836),\n  Row(value=837),\n  Row(value=838),\n  Row(value=839),\n  Row(value=840),\n  Row(value=841),\n  Row(value=842),\n  Row(value=843),\n  Row(value=844),\n  Row(value=845),\n  Row(value=846),\n  Row(value=847),\n  Row(value=848),\n  Row(value=849),\n  Row(value=850),\n  Row(value=851),\n  Row(value=852),\n  Row(value=853),\n  Row(value=854),\n  Row(value=855),\n  Row(value=856),\n  Row(value=857),\n  Row(value=858),\n  Row(value=859),\n  Row(value=860),\n  Row(value=861),\n  Row(value=862),\n  Row(value=863),\n  Row(value=864),\n  Row(value=865),\n  Row(value=866),\n  Row(value=867),\n  Row(value=868),\n  Row(value=869),\n  Row(value=870),\n  Row(value=871),\n  Row(value=872),\n  Row(value=873),\n  Row(value=874),\n  Row(value=875),\n  Row(value=876),\n  Row(value=877),\n  Row(value=878),\n  Row(value=879),\n  Row(value=880),\n  Row(value=881),\n  Row(value=882),\n  Row(value=883),\n  Row(value=884),\n  Row(value=885),\n  Row(value=886),\n  Row(value=887),\n  Row(value=888),\n  Row(value=889),\n  Row(value=890),\n  Row(value=891),\n  Row(value=892),\n  Row(value=893),\n  Row(value=894),\n  Row(value=895),\n  Row(value=896),\n  Row(value=897),\n  Row(value=898),\n  Row(value=899),\n  Row(value=900),\n  Row(value=901),\n  Row(value=902),\n  Row(value=903),\n  Row(value=904),\n  Row(value=905),\n  Row(value=906),\n  Row(value=907),\n  Row(value=908),\n  Row(value=909),\n  Row(value=910),\n  Row(value=911),\n  Row(value=912),\n  Row(value=913),\n  Row(value=914),\n  Row(value=915),\n  Row(value=916),\n  Row(value=917),\n  Row(value=918),\n  Row(value=919),\n  Row(value=920),\n  Row(value=921),\n  Row(value=922),\n  Row(value=923),\n  Row(value=924),\n  Row(value=925),\n  Row(value=926),\n  Row(value=927),\n  Row(value=928),\n  Row(value=929),\n  Row(value=930),\n  Row(value=931),\n  Row(value=932),\n  Row(value=933),\n  Row(value=934),\n  Row(value=935),\n  Row(value=936),\n  Row(value=937),\n  Row(value=938),\n  Row(value=939),\n  Row(value=940),\n  Row(value=941),\n  Row(value=942),\n  Row(value=943),\n  Row(value=944),\n  Row(value=945),\n  Row(value=946),\n  Row(value=947),\n  Row(value=948),\n  Row(value=949),\n  Row(value=950),\n  Row(value=951),\n  Row(value=952),\n  Row(value=953),\n  Row(value=954),\n  Row(value=955),\n  Row(value=956),\n  Row(value=957),\n  Row(value=958),\n  Row(value=959),\n  Row(value=960),\n  Row(value=961),\n  Row(value=962),\n  Row(value=963),\n  Row(value=964),\n  Row(value=965),\n  Row(value=966),\n  Row(value=967),\n  Row(value=968),\n  Row(value=969),\n  Row(value=970),\n  Row(value=971),\n  Row(value=972),\n  Row(value=973),\n  Row(value=974),\n  Row(value=975),\n  Row(value=976),\n  Row(value=977),\n  Row(value=978),\n  Row(value=979),\n  Row(value=980),\n  Row(value=981),\n  Row(value=982),\n  Row(value=983),\n  Row(value=984),\n  Row(value=985),\n  Row(value=986),\n  Row(value=987),\n  Row(value=988),\n  Row(value=989),\n  Row(value=990),\n  Row(value=991),\n  Row(value=992),\n  Row(value=993),\n  Row(value=994),\n  Row(value=995),\n  Row(value=996),\n  Row(value=997),\n  Row(value=998),\n  Row(value=999),\n  ...],\n [Row(value=1024),\n  Row(value=1025),\n  Row(value=1026),\n  Row(value=1027),\n  Row(value=1028),\n  Row(value=1029),\n  Row(value=1030),\n  Row(value=1031),\n  Row(value=1032),\n  Row(value=1033),\n  Row(value=1034),\n  Row(value=1035),\n  Row(value=1036),\n  Row(value=1037),\n  Row(value=1038),\n  Row(value=1039),\n  Row(value=1040),\n  Row(value=1041),\n  Row(value=1042),\n  Row(value=1043),\n  Row(value=1044),\n  Row(value=1045),\n  Row(value=1046),\n  Row(value=1047),\n  Row(value=1048),\n  Row(value=1049),\n  Row(value=1050),\n  Row(value=1051),\n  Row(value=1052),\n  Row(value=1053),\n  Row(value=1054),\n  Row(value=1055),\n  Row(value=1056),\n  Row(value=1057),\n  Row(value=1058),\n  Row(value=1059),\n  Row(value=1060),\n  Row(value=1061),\n  Row(value=1062),\n  Row(value=1063),\n  Row(value=1064),\n  Row(value=1065),\n  Row(value=1066),\n  Row(value=1067),\n  Row(value=1068),\n  Row(value=1069),\n  Row(value=1070),\n  Row(value=1071),\n  Row(value=1072),\n  Row(value=1073),\n  Row(value=1074),\n  Row(value=1075),\n  Row(value=1076),\n  Row(value=1077),\n  Row(value=1078),\n  Row(value=1079),\n  Row(value=1080),\n  Row(value=1081),\n  Row(value=1082),\n  Row(value=1083),\n  Row(value=1084),\n  Row(value=1085),\n  Row(value=1086),\n  Row(value=1087),\n  Row(value=1088),\n  Row(value=1089),\n  Row(value=1090),\n  Row(value=1091),\n  Row(value=1092),\n  Row(value=1093),\n  Row(value=1094),\n  Row(value=1095),\n  Row(value=1096),\n  Row(value=1097),\n  Row(value=1098),\n  Row(value=1099),\n  Row(value=1100),\n  Row(value=1101),\n  Row(value=1102),\n  Row(value=1103),\n  Row(value=1104),\n  Row(value=1105),\n  Row(value=1106),\n  Row(value=1107),\n  Row(value=1108),\n  Row(value=1109),\n  Row(value=1110),\n  Row(value=1111),\n  Row(value=1112),\n  Row(value=1113),\n  Row(value=1114),\n  Row(value=1115),\n  Row(value=1116),\n  Row(value=1117),\n  Row(value=1118),\n  Row(value=1119),\n  Row(value=1120),\n  Row(value=1121),\n  Row(value=1122),\n  Row(value=1123),\n  Row(value=1124),\n  Row(value=1125),\n  Row(value=1126),\n  Row(value=1127),\n  Row(value=1128),\n  Row(value=1129),\n  Row(value=1130),\n  Row(value=1131),\n  Row(value=1132),\n  Row(value=1133),\n  Row(value=1134),\n  Row(value=1135),\n  Row(value=1136),\n  Row(value=1137),\n  Row(value=1138),\n  Row(value=1139),\n  Row(value=1140),\n  Row(value=1141),\n  Row(value=1142),\n  Row(value=1143),\n  Row(value=1144),\n  Row(value=1145),\n  Row(value=1146),\n  Row(value=1147),\n  Row(value=1148),\n  Row(value=1149),\n  Row(value=1150),\n  Row(value=1151),\n  Row(value=1152),\n  Row(value=1153),\n  Row(value=1154),\n  Row(value=1155),\n  Row(value=1156),\n  Row(value=1157),\n  Row(value=1158),\n  Row(value=1159),\n  Row(value=1160),\n  Row(value=1161),\n  Row(value=1162),\n  Row(value=1163),\n  Row(value=1164),\n  Row(value=1165),\n  Row(value=1166),\n  Row(value=1167),\n  Row(value=1168),\n  Row(value=1169),\n  Row(value=1170),\n  Row(value=1171),\n  Row(value=1172),\n  Row(value=1173),\n  Row(value=1174),\n  Row(value=1175),\n  Row(value=1176),\n  Row(value=1177),\n  Row(value=1178),\n  Row(value=1179),\n  Row(value=1180),\n  Row(value=1181),\n  Row(value=1182),\n  Row(value=1183),\n  Row(value=1184),\n  Row(value=1185),\n  Row(value=1186),\n  Row(value=1187),\n  Row(value=1188),\n  Row(value=1189),\n  Row(value=1190),\n  Row(value=1191),\n  Row(value=1192),\n  Row(value=1193),\n  Row(value=1194),\n  Row(value=1195),\n  Row(value=1196),\n  Row(value=1197),\n  Row(value=1198),\n  Row(value=1199),\n  Row(value=1200),\n  Row(value=1201),\n  Row(value=1202),\n  Row(value=1203),\n  Row(value=1204),\n  Row(value=1205),\n  Row(value=1206),\n  Row(value=1207),\n  Row(value=1208),\n  Row(value=1209),\n  Row(value=1210),\n  Row(value=1211),\n  Row(value=1212),\n  Row(value=1213),\n  Row(value=1214),\n  Row(value=1215),\n  Row(value=1216),\n  Row(value=1217),\n  Row(value=1218),\n  Row(value=1219),\n  Row(value=1220),\n  Row(value=1221),\n  Row(value=1222),\n  Row(value=1223),\n  Row(value=1224),\n  Row(value=1225),\n  Row(value=1226),\n  Row(value=1227),\n  Row(value=1228),\n  Row(value=1229),\n  Row(value=1230),\n  Row(value=1231),\n  Row(value=1232),\n  Row(value=1233),\n  Row(value=1234),\n  Row(value=1235),\n  Row(value=1236),\n  Row(value=1237),\n  Row(value=1238),\n  Row(value=1239),\n  Row(value=1240),\n  Row(value=1241),\n  Row(value=1242),\n  Row(value=1243),\n  Row(value=1244),\n  Row(value=1245),\n  Row(value=1246),\n  Row(value=1247),\n  Row(value=1248),\n  Row(value=1249),\n  Row(value=1250),\n  Row(value=1251),\n  Row(value=1252),\n  Row(value=1253),\n  Row(value=1254),\n  Row(value=1255),\n  Row(value=1256),\n  Row(value=1257),\n  Row(value=1258),\n  Row(value=1259),\n  Row(value=1260),\n  Row(value=1261),\n  Row(value=1262),\n  Row(value=1263),\n  Row(value=1264),\n  Row(value=1265),\n  Row(value=1266),\n  Row(value=1267),\n  Row(value=1268),\n  Row(value=1269),\n  Row(value=1270),\n  Row(value=1271),\n  Row(value=1272),\n  Row(value=1273),\n  Row(value=1274),\n  Row(value=1275),\n  Row(value=1276),\n  Row(value=1277),\n  Row(value=1278),\n  Row(value=1279),\n  Row(value=1280),\n  Row(value=1281),\n  Row(value=1282),\n  Row(value=1283),\n  Row(value=1284),\n  Row(value=1285),\n  Row(value=1286),\n  Row(value=1287),\n  Row(value=1288),\n  Row(value=1289),\n  Row(value=1290),\n  Row(value=1291),\n  Row(value=1292),\n  Row(value=1293),\n  Row(value=1294),\n  Row(value=1295),\n  Row(value=1296),\n  Row(value=1297),\n  Row(value=1298),\n  Row(value=1299),\n  Row(value=1300),\n  Row(value=1301),\n  Row(value=1302),\n  Row(value=1303),\n  Row(value=1304),\n  Row(value=1305),\n  Row(value=1306),\n  Row(value=1307),\n  Row(value=1308),\n  Row(value=1309),\n  Row(value=1310),\n  Row(value=1311),\n  Row(value=1312),\n  Row(value=1313),\n  Row(value=1314),\n  Row(value=1315),\n  Row(value=1316),\n  Row(value=1317),\n  Row(value=1318),\n  Row(value=1319),\n  Row(value=1320),\n  Row(value=1321),\n  Row(value=1322),\n  Row(value=1323),\n  Row(value=1324),\n  Row(value=1325),\n  Row(value=1326),\n  Row(value=1327),\n  Row(value=1328),\n  Row(value=1329),\n  Row(value=1330),\n  Row(value=1331),\n  Row(value=1332),\n  Row(value=1333),\n  Row(value=1334),\n  Row(value=1335),\n  Row(value=1336),\n  Row(value=1337),\n  Row(value=1338),\n  Row(value=1339),\n  Row(value=1340),\n  Row(value=1341),\n  Row(value=1342),\n  Row(value=1343),\n  Row(value=1344),\n  Row(value=1345),\n  Row(value=1346),\n  Row(value=1347),\n  Row(value=1348),\n  Row(value=1349),\n  Row(value=1350),\n  Row(value=1351),\n  Row(value=1352),\n  Row(value=1353),\n  Row(value=1354),\n  Row(value=1355),\n  Row(value=1356),\n  Row(value=1357),\n  Row(value=1358),\n  Row(value=1359),\n  Row(value=1360),\n  Row(value=1361),\n  Row(value=1362),\n  Row(value=1363),\n  Row(value=1364),\n  Row(value=1365),\n  Row(value=1366),\n  Row(value=1367),\n  Row(value=1368),\n  Row(value=1369),\n  Row(value=1370),\n  Row(value=1371),\n  Row(value=1372),\n  Row(value=1373),\n  Row(value=1374),\n  Row(value=1375),\n  Row(value=1376),\n  Row(value=1377),\n  Row(value=1378),\n  Row(value=1379),\n  Row(value=1380),\n  Row(value=1381),\n  Row(value=1382),\n  Row(value=1383),\n  Row(value=1384),\n  Row(value=1385),\n  Row(value=1386),\n  Row(value=1387),\n  Row(value=1388),\n  Row(value=1389),\n  Row(value=1390),\n  Row(value=1391),\n  Row(value=1392),\n  Row(value=1393),\n  Row(value=1394),\n  Row(value=1395),\n  Row(value=1396),\n  Row(v\n\n*** WARNING: max output size exceeded, skipping output. ***\n\n  Row(value=7853),\n  Row(value=7854),\n  Row(value=7855),\n  Row(value=7856),\n  Row(value=7857),\n  Row(value=7858),\n  Row(value=7859),\n  Row(value=7860),\n  Row(value=7861),\n  Row(value=7862),\n  Row(value=7863),\n  Row(value=7864),\n  Row(value=7865),\n  Row(value=7866),\n  Row(value=7867),\n  Row(value=7868),\n  Row(value=7869),\n  Row(value=7870),\n  Row(value=7871),\n  Row(value=7872),\n  Row(value=7873),\n  Row(value=7874),\n  Row(value=7875),\n  Row(value=7876),\n  Row(value=7877),\n  Row(value=7878),\n  Row(value=7879),\n  Row(value=7880),\n  Row(value=7881),\n  Row(value=7882),\n  Row(value=7883),\n  Row(value=7884),\n  Row(value=7885),\n  Row(value=7886),\n  Row(value=7887),\n  Row(value=7888),\n  Row(value=7889),\n  Row(value=7890),\n  Row(value=7891),\n  Row(value=7892),\n  Row(value=7893),\n  Row(value=7894),\n  Row(value=7895),\n  Row(value=7896),\n  Row(value=7897),\n  Row(value=7898),\n  Row(value=7899),\n  Row(value=7900),\n  Row(value=7901),\n  Row(value=7902),\n  Row(value=7903),\n  Row(value=7904),\n  Row(value=7905),\n  Row(value=7906),\n  Row(value=7907),\n  Row(value=7908),\n  Row(value=7909),\n  Row(value=7910),\n  Row(value=7911),\n  Row(value=7912),\n  Row(value=7913),\n  Row(value=7914),\n  Row(value=7915),\n  Row(value=7916),\n  Row(value=7917),\n  Row(value=7918),\n  Row(value=7919),\n  Row(value=7920),\n  Row(value=7921),\n  Row(value=7922),\n  Row(value=7923),\n  Row(value=7924),\n  Row(value=7925),\n  Row(value=7926),\n  Row(value=7927),\n  Row(value=7928),\n  Row(value=7929),\n  Row(value=7930),\n  Row(value=7931),\n  Row(value=7932),\n  Row(value=7933),\n  Row(value=7934),\n  Row(value=7935),\n  Row(value=7936),\n  Row(value=7937),\n  Row(value=7938),\n  Row(value=7939),\n  Row(value=7940),\n  Row(value=7941),\n  Row(value=7942),\n  Row(value=7943),\n  Row(value=7944),\n  Row(value=7945),\n  Row(value=7946),\n  Row(value=7947),\n  Row(value=7948),\n  Row(value=7949),\n  Row(value=7950),\n  Row(value=7951),\n  Row(value=7952),\n  Row(value=7953),\n  Row(value=7954),\n  Row(value=7955),\n  Row(value=7956),\n  Row(value=7957),\n  Row(value=7958),\n  Row(value=7959),\n  Row(value=7960),\n  Row(value=7961),\n  Row(value=7962),\n  Row(value=7963),\n  Row(value=7964),\n  Row(value=7965),\n  Row(value=7966),\n  Row(value=7967),\n  Row(value=7968),\n  Row(value=7969),\n  Row(value=7970),\n  Row(value=7971),\n  Row(value=7972),\n  Row(value=7973),\n  Row(value=7974),\n  Row(value=7975),\n  Row(value=7976),\n  Row(value=7977),\n  Row(value=7978),\n  Row(value=7979),\n  Row(value=7980),\n  Row(value=7981),\n  Row(value=7982),\n  Row(value=7983),\n  Row(value=7984),\n  Row(value=7985),\n  Row(value=7986),\n  Row(value=7987),\n  Row(value=7988),\n  Row(value=7989),\n  Row(value=7990),\n  Row(value=7991),\n  Row(value=7992),\n  Row(value=7993),\n  Row(value=7994),\n  Row(value=7995),\n  Row(value=7996),\n  Row(value=7997),\n  Row(value=7998),\n  Row(value=7999),\n  Row(value=8000),\n  Row(value=8001),\n  Row(value=8002),\n  Row(value=8003),\n  Row(value=8004),\n  Row(value=8005),\n  Row(value=8006),\n  Row(value=8007),\n  Row(value=8008),\n  Row(value=8009),\n  Row(value=8010),\n  Row(value=8011),\n  Row(value=8012),\n  Row(value=8013),\n  Row(value=8014),\n  Row(value=8015),\n  Row(value=8016),\n  Row(value=8017),\n  Row(value=8018),\n  Row(value=8019),\n  Row(value=8020),\n  Row(value=8021),\n  Row(value=8022),\n  Row(value=8023),\n  Row(value=8024),\n  Row(value=8025),\n  Row(value=8026),\n  Row(value=8027),\n  Row(value=8028),\n  Row(value=8029),\n  Row(value=8030),\n  Row(value=8031),\n  Row(value=8032),\n  Row(value=8033),\n  Row(value=8034),\n  Row(value=8035),\n  Row(value=8036),\n  Row(value=8037),\n  Row(value=8038),\n  Row(value=8039),\n  Row(value=8040),\n  Row(value=8041),\n  Row(value=8042),\n  Row(value=8043),\n  Row(value=8044),\n  Row(value=8045),\n  Row(value=8046),\n  Row(value=8047),\n  Row(value=8048),\n  Row(value=8049),\n  Row(value=8050),\n  Row(value=8051),\n  Row(value=8052),\n  Row(value=8053),\n  Row(value=8054),\n  Row(value=8055),\n  Row(value=8056),\n  Row(value=8057),\n  Row(value=8058),\n  Row(value=8059),\n  Row(value=8060),\n  Row(value=8061),\n  Row(value=8062),\n  Row(value=8063),\n  Row(value=8064),\n  Row(value=8065),\n  Row(value=8066),\n  Row(value=8067),\n  Row(value=8068),\n  Row(value=8069),\n  Row(value=8070),\n  Row(value=8071),\n  Row(value=8072),\n  Row(value=8073),\n  Row(value=8074),\n  Row(value=8075),\n  Row(value=8076),\n  Row(value=8077),\n  Row(value=8078),\n  Row(value=8079),\n  Row(value=8080),\n  Row(value=8081),\n  Row(value=8082),\n  Row(value=8083),\n  Row(value=8084),\n  Row(value=8085),\n  Row(value=8086),\n  Row(value=8087),\n  Row(value=8088),\n  Row(value=8089),\n  Row(value=8090),\n  Row(value=8091),\n  Row(value=8092),\n  Row(value=8093),\n  Row(value=8094),\n  Row(value=8095),\n  Row(value=8096),\n  Row(value=8097),\n  Row(value=8098),\n  Row(value=8099),\n  Row(value=8100),\n  Row(value=8101),\n  Row(value=8102),\n  Row(value=8103),\n  Row(value=8104),\n  Row(value=8105),\n  Row(value=8106),\n  Row(value=8107),\n  Row(value=8108),\n  Row(value=8109),\n  Row(value=8110),\n  Row(value=8111),\n  Row(value=8112),\n  Row(value=8113),\n  Row(value=8114),\n  Row(value=8115),\n  Row(value=8116),\n  Row(value=8117),\n  Row(value=8118),\n  Row(value=8119),\n  Row(value=8120),\n  Row(value=8121),\n  Row(value=8122),\n  Row(value=8123),\n  Row(value=8124),\n  Row(value=8125),\n  Row(value=8126),\n  Row(value=8127),\n  Row(value=8128),\n  Row(value=8129),\n  Row(value=8130),\n  Row(value=8131),\n  Row(value=8132),\n  Row(value=8133),\n  Row(value=8134),\n  Row(value=8135),\n  Row(value=8136),\n  Row(value=8137),\n  Row(value=8138),\n  Row(value=8139),\n  Row(value=8140),\n  Row(value=8141),\n  Row(value=8142),\n  Row(value=8143),\n  Row(value=8144),\n  Row(value=8145),\n  Row(value=8146),\n  Row(value=8147),\n  Row(value=8148),\n  Row(value=8149),\n  Row(value=8150),\n  Row(value=8151),\n  Row(value=8152),\n  Row(value=8153),\n  Row(value=8154),\n  Row(value=8155),\n  Row(value=8156),\n  Row(value=8157),\n  Row(value=8158),\n  Row(value=8159),\n  Row(value=8160),\n  Row(value=8161),\n  Row(value=8162),\n  Row(value=8163),\n  Row(value=8164),\n  Row(value=8165),\n  Row(value=8166),\n  Row(value=8167),\n  ...],\n [Row(value=8192),\n  Row(value=8193),\n  Row(value=8194),\n  Row(value=8195),\n  Row(value=8196),\n  Row(value=8197),\n  Row(value=8198),\n  Row(value=8199),\n  Row(value=8200),\n  Row(value=8201),\n  Row(value=8202),\n  Row(value=8203),\n  Row(value=8204),\n  Row(value=8205),\n  Row(value=8206),\n  Row(value=8207),\n  Row(value=8208),\n  Row(value=8209),\n  Row(value=8210),\n  Row(value=8211),\n  Row(value=8212),\n  Row(value=8213),\n  Row(value=8214),\n  Row(value=8215),\n  Row(value=8216),\n  Row(value=8217),\n  Row(value=8218),\n  Row(value=8219),\n  Row(value=8220),\n  Row(value=8221),\n  Row(value=8222),\n  Row(value=8223),\n  Row(value=8224),\n  Row(value=8225),\n  Row(value=8226),\n  Row(value=8227),\n  Row(value=8228),\n  Row(value=8229),\n  Row(value=8230),\n  Row(value=8231),\n  Row(value=8232),\n  Row(value=8233),\n  Row(value=8234),\n  Row(value=8235),\n  Row(value=8236),\n  Row(value=8237),\n  Row(value=8238),\n  Row(value=8239),\n  Row(value=8240),\n  Row(value=8241),\n  Row(value=8242),\n  Row(value=8243),\n  Row(value=8244),\n  Row(value=8245),\n  Row(value=8246),\n  Row(value=8247),\n  Row(value=8248),\n  Row(value=8249),\n  Row(value=8250),\n  Row(value=8251),\n  Row(value=8252),\n  Row(value=8253),\n  Row(value=8254),\n  Row(value=8255),\n  Row(value=8256),\n  Row(value=8257),\n  Row(value=8258),\n  Row(value=8259),\n  Row(value=8260),\n  Row(value=8261),\n  Row(value=8262),\n  Row(value=8263),\n  Row(value=8264),\n  Row(value=8265),\n  Row(value=8266),\n  Row(value=8267),\n  Row(value=8268),\n  Row(value=8269),\n  Row(value=8270),\n  Row(value=8271),\n  Row(value=8272),\n  Row(value=8273),\n  Row(value=8274),\n  Row(value=8275),\n  Row(value=8276),\n  Row(value=8277),\n  Row(value=8278),\n  Row(value=8279),\n  Row(value=8280),\n  Row(value=8281),\n  Row(value=8282),\n  Row(value=8283),\n  Row(value=8284),\n  Row(value=8285),\n  Row(value=8286),\n  Row(value=8287),\n  Row(value=8288),\n  Row(value=8289),\n  Row(value=8290),\n  Row(value=8291),\n  Row(value=8292),\n  Row(value=8293),\n  Row(value=8294),\n  Row(value=8295),\n  Row(value=8296),\n  Row(value=8297),\n  Row(value=8298),\n  Row(value=8299),\n  Row(value=8300),\n  Row(value=8301),\n  Row(value=8302),\n  Row(value=8303),\n  Row(value=8304),\n  Row(value=8305),\n  Row(value=8306),\n  Row(value=8307),\n  Row(value=8308),\n  Row(value=8309),\n  Row(value=8310),\n  Row(value=8311),\n  Row(value=8312),\n  Row(value=8313),\n  Row(value=8314),\n  Row(value=8315),\n  Row(value=8316),\n  Row(value=8317),\n  Row(value=8318),\n  Row(value=8319),\n  Row(value=8320),\n  Row(value=8321),\n  Row(value=8322),\n  Row(value=8323),\n  Row(value=8324),\n  Row(value=8325),\n  Row(value=8326),\n  Row(value=8327),\n  Row(value=8328),\n  Row(value=8329),\n  Row(value=8330),\n  Row(value=8331),\n  Row(value=8332),\n  Row(value=8333),\n  Row(value=8334),\n  Row(value=8335),\n  Row(value=8336),\n  Row(value=8337),\n  Row(value=8338),\n  Row(value=8339),\n  Row(value=8340),\n  Row(value=8341),\n  Row(value=8342),\n  Row(value=8343),\n  Row(value=8344),\n  Row(value=8345),\n  Row(value=8346),\n  Row(value=8347),\n  Row(value=8348),\n  Row(value=8349),\n  Row(value=8350),\n  Row(value=8351),\n  Row(value=8352),\n  Row(value=8353),\n  Row(value=8354),\n  Row(value=8355),\n  Row(value=8356),\n  Row(value=8357),\n  Row(value=8358),\n  Row(value=8359),\n  Row(value=8360),\n  Row(value=8361),\n  Row(value=8362),\n  Row(value=8363),\n  Row(value=8364),\n  Row(value=8365),\n  Row(value=8366),\n  Row(value=8367),\n  Row(value=8368),\n  Row(value=8369),\n  Row(value=8370),\n  Row(value=8371),\n  Row(value=8372),\n  Row(value=8373),\n  Row(value=8374),\n  Row(value=8375),\n  Row(value=8376),\n  Row(value=8377),\n  Row(value=8378),\n  Row(value=8379),\n  Row(value=8380),\n  Row(value=8381),\n  Row(value=8382),\n  Row(value=8383),\n  Row(value=8384),\n  Row(value=8385),\n  Row(value=8386),\n  Row(value=8387),\n  Row(value=8388),\n  Row(value=8389),\n  Row(value=8390),\n  Row(value=8391),\n  Row(value=8392),\n  Row(value=8393),\n  Row(value=8394),\n  Row(value=8395),\n  Row(value=8396),\n  Row(value=8397),\n  Row(value=8398),\n  Row(value=8399),\n  Row(value=8400),\n  Row(value=8401),\n  Row(value=8402),\n  Row(value=8403),\n  Row(value=8404),\n  Row(value=8405),\n  Row(value=8406),\n  Row(value=8407),\n  Row(value=8408),\n  Row(value=8409),\n  Row(value=8410),\n  Row(value=8411),\n  Row(value=8412),\n  Row(value=8413),\n  Row(value=8414),\n  Row(value=8415),\n  Row(value=8416),\n  Row(value=8417),\n  Row(value=8418),\n  Row(value=8419),\n  Row(value=8420),\n  Row(value=8421),\n  Row(value=8422),\n  Row(value=8423),\n  Row(value=8424),\n  Row(value=8425),\n  Row(value=8426),\n  Row(value=8427),\n  Row(value=8428),\n  Row(value=8429),\n  Row(value=8430),\n  Row(value=8431),\n  Row(value=8432),\n  Row(value=8433),\n  Row(value=8434),\n  Row(value=8435),\n  Row(value=8436),\n  Row(value=8437),\n  Row(value=8438),\n  Row(value=8439),\n  Row(value=8440),\n  Row(value=8441),\n  Row(value=8442),\n  Row(value=8443),\n  Row(value=8444),\n  Row(value=8445),\n  Row(value=8446),\n  Row(value=8447),\n  Row(value=8448),\n  Row(value=8449),\n  Row(value=8450),\n  Row(value=8451),\n  Row(value=8452),\n  Row(value=8453),\n  Row(value=8454),\n  Row(value=8455),\n  Row(value=8456),\n  Row(value=8457),\n  Row(value=8458),\n  Row(value=8459),\n  Row(value=8460),\n  Row(value=8461),\n  Row(value=8462),\n  Row(value=8463),\n  Row(value=8464),\n  Row(value=8465),\n  Row(value=8466),\n  Row(value=8467),\n  Row(value=8468),\n  Row(value=8469),\n  Row(value=8470),\n  Row(value=8471),\n  Row(value=8472),\n  Row(value=8473),\n  Row(value=8474),\n  Row(value=8475),\n  Row(value=8476),\n  Row(value=8477),\n  Row(value=8478),\n  Row(value=8479),\n  Row(value=8480),\n  Row(value=8481),\n  Row(value=8482),\n  Row(value=8483),\n  Row(value=8484),\n  Row(value=8485),\n  Row(value=8486),\n  Row(value=8487),\n  Row(value=8488),\n  Row(value=8489),\n  Row(value=8490),\n  Row(value=8491),\n  Row(value=8492),\n  Row(value=8493),\n  Row(value=8494),\n  Row(value=8495),\n  Row(value=8496),\n  Row(value=8497),\n  Row(value=8498),\n  Row(value=8499),\n  Row(value=8500),\n  Row(value=8501),\n  Row(value=8502),\n  Row(value=8503),\n  Row(value=8504),\n  Row(value=8505),\n  Row(value=8506),\n  Row(value=8507),\n  Row(value=8508),\n  Row(value=8509),\n  Row(value=8510),\n  Row(value=8511),\n  Row(value=8512),\n  Row(value=8513),\n  Row(value=8514),\n  Row(value=8515),\n  Row(value=8516),\n  Row(value=8517),\n  Row(value=8518),\n  Row(value=8519),\n  Row(value=8520),\n  Row(value=8521),\n  Row(value=8522),\n  Row(value=8523),\n  Row(value=8524),\n  Row(value=8525),\n  Row(value=8526),\n  Row(value=8527),\n  Row(value=8528),\n  Row(value=8529),\n  Row(value=8530),\n  Row(value=8531),\n  Row(value=8532),\n  Row(value=8533),\n  Row(value=8534),\n  Row(value=8535),\n  Row(value=8536),\n  Row(value=8537),\n  Row(value=8538),\n  Row(value=8539),\n  Row(value=8540),\n  Row(value=8541),\n  Row(value=8542),\n  Row(value=8543),\n  Row(value=8544),\n  Row(value=8545),\n  Row(value=8546),\n  Row(value=8547),\n  Row(value=8548),\n  Row(value=8549),\n  Row(value=8550),\n  Row(value=8551),\n  Row(value=8552),\n  Row(value=8553),\n  Row(value=8554),\n  Row(value=8555),\n  Row(value=8556),\n  Row(value=8557),\n  Row(value=8558),\n  Row(value=8559),\n  Row(value=8560),\n  Row(value=8561),\n  Row(value=8562),\n  Row(value=8563),\n  Row(value=8564),\n  Row(value=8565),\n  Row(value=8566),\n  Row(value=8567),\n  Row(value=8568),\n  Row(value=8569),\n  Row(value=8570),\n  Row(value=8571),\n  Row(value=8572),\n  Row(value=8573),\n  Row(value=8574),\n  Row(value=8575),\n  Row(value=8576),\n  Row(value=8577),\n  Row(value=8578),\n  Row(value=8579),\n  Row(value=8580),\n  Row(value=8581),\n  Row(value=8582),\n  Row(value=8583),\n  Row(value=8584),\n  Row(value=8585),\n  Row(value=8586),\n  Row(value=8587),\n  Row(value=8588),\n  Row(value=8589),\n  Row(value=8590),\n  Row(value=8591),\n  Row(value=8592),\n  Row(value=8593),\n  Row(value=8594),\n  Row(value=8595),\n  Row(value=8596),\n  Row(value=8597),\n  Row(value=8598),\n  Row(value=8599),\n  Row(value=8600),\n  Row(value=8601),\n  Row(value=8602),\n  Row(value=8603),\n  Row(value=8604),\n  Row(value=8605),\n  Row(value=8606),\n  Row(value=8607),\n  Row(value=8608),\n  Row(value=8609),\n  Row(value=8610),\n  Row(value=8611),\n  Row(value=8612),\n  Row(value=8613),\n  Row(value=8614),\n  Row(value=8615),\n  Row(value=8616),\n  Row(value=8617),\n  Row(value=8618),\n  Row(value=8619),\n  Row(value=8620),\n  Row(value=8621),\n  Row(value=8622),\n  Row(value=8623),\n  Row(value=8624),\n  Row(value=8625),\n  Row(value=8626),\n  Row(value=8627),\n  Row(value=8628),\n  Row(value=8629),\n  Row(value=8630),\n  Row(value=8631),\n  Row(value=8632),\n  Row(value=8633),\n  Row(value=8634),\n  Row(value=8635),\n  Row(value=8636),\n  Row(value=8637),\n  Row(value=8638),\n  Row(value=8639),\n  Row(value=8640),\n  Row(value=8641),\n  Row(value=8642),\n  Row(value=8643),\n  Row(value=8644),\n  Row(value=8645),\n  Row(value=8646),\n  Row(value=8647),\n  Row(value=8648),\n  Row(value=8649),\n  Row(value=8650),\n  Row(value=8651),\n  Row(value=8652),\n  Row(value=8653),\n  Row(value=8654),\n  Row(value=8655),\n  Row(value=8656),\n  Row(value=8657),\n  Row(value=8658),\n  Row(value=8659),\n  Row(value=8660),\n  Row(value=8661),\n  Row(value=8662),\n  Row(value=8663),\n  Row(value=8664),\n  Row(value=8665),\n  Row(value=8666),\n  Row(value=8667),\n  Row(value=8668),\n  Row(value=8669),\n  Row(value=8670),\n  Row(value=8671),\n  Row(value=8672),\n  Row(value=8673),\n  Row(value=8674),\n  Row(value=8675),\n  Row(value=8676),\n  Row(value=8677),\n  Row(value=8678),\n  Row(value=8679),\n  Row(value=8680),\n  Row(value=8681),\n  Row(value=8682),\n  Row(value=8683),\n  Row(value=8684),\n  Row(value=8685),\n  Row(value=8686),\n  Row(value=8687),\n  Row(value=8688),\n  Row(value=8689),\n  Row(value=8690),\n  Row(value=8691),\n  Row(value=8692),\n  Row(value=8693),\n  Row(value=8694),\n  Row(value=8695),\n  Row(value=8696),\n  Row(value=8697),\n  Row(value=8698),\n  Row(value=8699),\n  Row(value=8700),\n  Row(value=8701),\n  Row(value=8702),\n  Row(value=8703),\n  Row(value=8704),\n  Row(value=8705),\n  Row(value=8706),\n  Row(value=8707),\n  Row(value=8708),\n  Row(value=8709),\n  Row(value=8710),\n  Row(value=8711),\n  Row(value=8712),\n  Row(value=8713),\n  Row(value=8714),\n  Row(value=8715),\n  Row(value=8716),\n  Row(value=8717),\n  Row(value=8718),\n  Row(value=8719),\n  Row(value=8720),\n  Row(value=8721),\n  Row(value=8722),\n  Row(value=8723),\n  Row(value=8724),\n  Row(value=8725),\n  Row(value=8726),\n  Row(value=8727),\n  Row(value=8728),\n  Row(value=8729),\n  Row(value=8730),\n  Row(value=8731),\n  Row(value=8732),\n  Row(value=8733),\n  Row(value=8734),\n  Row(value=8735),\n  Row(value=8736),\n  Row(value=8737),\n  Row(value=8738),\n  Row(value=8739),\n  Row(value=8740),\n  Row(value=8741),\n  Row(value=8742),\n  Row(value=8743),\n  Row(value=8744),\n  Row(value=8745),\n  Row(value=8746),\n  Row(value=8747),\n  Row(value=8748),\n  Row(value=8749),\n  Row(value=8750),\n  Row(value=8751),\n  Row(value=8752),\n  Row(value=8753),\n  Row(value=8754),\n  Row(value=8755),\n  Row(value=8756),\n  Row(value=8757),\n  Row(value=8758),\n  Row(value=8759),\n  Row(value=8760),\n  Row(value=8761),\n  Row(value=8762),\n  Row(value=8763),\n  Row(value=8764),\n  Row(value=8765),\n  Row(value=8766),\n  Row(value=8767),\n  Row(value=8768),\n  Row(value=8769),\n  Row(value=8770),\n  Row(value=8771),\n  Row(value=8772),\n  Row(value=8773),\n  Row(value=8774),\n  Row(value=8775),\n  Row(value=8776),\n  Row(value=8777),\n  Row(value=8778),\n  Row(value=8779),\n  Row(value=8780),\n  Row(value=8781),\n  Row(value=8782),\n  Row(value=8783),\n  Row(value=8784),\n  Row(value=8785),\n  Row(value=8786),\n  Row(value=8787),\n  Row(value=8788),\n  Row(value=8789),\n  Row(value=8790),\n  Row(value=8791),\n  Row(value=8792),\n  Row(value=8793),\n  Row(value=8794),\n  Row(value=8795),\n  Row(value=8796),\n  Row(value=8797),\n  Row(value=8798),\n  Row(value=8799),\n  Row(value=8800),\n  Row(value=8801),\n  Row(value=8802),\n  Row(value=8803),\n  Row(value=8804),\n  Row(value=8805),\n  Row(value=8806),\n  Row(value=8807),\n  Row(value=8808),\n  Row(value=8809),\n  Row(value=8810),\n  Row(value=8811),\n  Row(value=8812),\n  Row(value=8813),\n  Row(value=8814),\n  Row(value=8815),\n  Row(value=8816),\n  Row(value=8817),\n  Row(value=8818),\n  Row(value=8819),\n  Row(value=8820),\n  Row(value=8821),\n  Row(value=8822),\n  Row(value=8823),\n  Row(value=8824),\n  Row(value=8825),\n  Row(value=8826),\n  Row(value=8827),\n  Row(value=8828),\n  Row(value=8829),\n  Row(value=8830),\n  Row(value=8831),\n  Row(value=8832),\n  Row(value=8833),\n  Row(value=8834),\n  Row(value=8835),\n  Row(value=8836),\n  Row(value=8837),\n  Row(value=8838),\n  Row(value=8839),\n  Row(value=8840),\n  Row(value=8841),\n  Row(value=8842),\n  Row(value=8843),\n  Row(value=8844),\n  Row(value=8845),\n  Row(value=8846),\n  Row(value=8847),\n  Row(value=8848),\n  Row(value=8849),\n  Row(value=8850),\n  Row(value=8851),\n  Row(value=8852),\n  Row(value=8853),\n  Row(value=8854),\n  Row(value=8855),\n  Row(value=8856),\n  Row(value=8857),\n  Row(value=8858),\n  Row(value=8859),\n  Row(value=8860),\n  Row(value=8861),\n  Row(value=8862),\n  Row(value=8863),\n  Row(value=8864),\n  Row(value=8865),\n  Row(value=8866),\n  Row(value=8867),\n  Row(value=8868),\n  Row(value=8869),\n  Row(value=8870),\n  Row(value=8871),\n  Row(value=8872),\n  Row(value=8873),\n  Row(value=8874),\n  Row(value=8875),\n  Row(value=8876),\n  Row(value=8877),\n  Row(value=8878),\n  Row(value=8879),\n  Row(value=8880),\n  Row(value=8881),\n  Row(value=8882),\n  Row(value=8883),\n  Row(value=8884),\n  Row(value=8885),\n  Row(value=8886),\n  Row(value=8887),\n  Row(value=8888),\n  Row(value=8889),\n  Row(value=8890),\n  Row(value=8891),\n  Row(value=8892),\n  Row(value=8893),\n  Row(value=8894),\n  Row(value=8895),\n  Row(value=8896),\n  Row(value=8897),\n  Row(value=8898),\n  Row(value=8899),\n  Row(value=8900),\n  Row(value=8901),\n  Row(value=8902),\n  Row(value=8903),\n  Row(value=8904),\n  Row(value=8905),\n  Row(value=8906),\n  Row(value=8907),\n  Row(value=8908),\n  Row(value=8909),\n  Row(value=8910),\n  Row(value=8911),\n  Row(value=8912),\n  Row(value=8913),\n  Row(value=8914),\n  Row(value=8915),\n  Row(value=8916),\n  Row(value=8917),\n  Row(value=8918),\n  Row(value=8919),\n  Row(value=8920),\n  Row(value=8921),\n  Row(value=8922),\n  Row(value=8923),\n  Row(value=8924),\n  Row(value=8925),\n  Row(value=8926),\n  Row(value=8927),\n  Row(value=8928),\n  Row(value=8929),\n  Row(value=8930),\n  Row(value=8931),\n  Row(value=8932),\n  Row(value=8933),\n  Row(value=8934),\n  Row(value=8935),\n  Row(value=8936),\n  Row(value=8937),\n  Row(value=8938),\n  Row(value=8939),\n  Row(value=8940),\n  Row(value=8941),\n  Row(value=8942),\n  Row(value=8943),\n  Row(value=8944),\n  Row(value=8945),\n  Row(value=8946),\n  Row(value=8947),\n  Row(value=8948),\n  Row(value=8949),\n  Row(value=8950),\n  Row(value=8951),\n  Row(value=8952),\n  Row(value=8953),\n  Row(value=8954),\n  Row(value=8955),\n  Row(value=8956),\n  Row(value=8957),\n  Row(value=8958),\n  Row(value=8959),\n  Row(value=8960),\n  Row(value=8961),\n  Row(value=8962),\n  Row(value=8963),\n  Row(value=8964),\n  Row(value=8965),\n  Row(value=8966),\n  Row(value=8967),\n  Row(value=8968),\n  Row(value=8969),\n  Row(value=8970),\n  Row(value=8971),\n  Row(value=8972),\n  Row(value=8973),\n  Row(value=8974),\n  Row(value=8975),\n  Row(value=8976),\n  Row(value=8977),\n  Row(value=8978),\n  Row(value=8979),\n  Row(value=8980),\n  Row(value=8981),\n  Row(value=8982),\n  Row(value=8983),\n  Row(value=8984),\n  Row(value=8985),\n  Row(value=8986),\n  Row(value=8987),\n  Row(value=8988),\n  Row(value=8989),\n  Row(value=8990),\n  Row(value=8991),\n  Row(value=8992),\n  Row(value=8993),\n  Row(value=8994),\n  Row(value=8995),\n  Row(value=8996),\n  Row(value=8997),\n  Row(value=8998),\n  Row(value=8999),\n  Row(value=9000),\n  Row(value=9001),\n  Row(value=9002),\n  Row(value=9003),\n  Row(value=9004),\n  Row(value=9005),\n  Row(value=9006),\n  Row(value=9007),\n  Row(value=9008),\n  Row(value=9009),\n  Row(value=9010),\n  Row(value=9011),\n  Row(value=9012),\n  Row(value=9013),\n  Row(value=9014),\n  Row(value=9015),\n  Row(value=9016),\n  Row(value=9017),\n  Row(value=9018),\n  Row(value=9019),\n  Row(value=9020),\n  Row(value=9021),\n  Row(value=9022),\n  Row(value=9023),\n  Row(value=9024),\n  Row(value=9025),\n  Row(value=9026),\n  Row(value=9027),\n  Row(value=9028),\n  Row(value=9029),\n  Row(value=9030),\n  Row(value=9031),\n  Row(value=9032),\n  Row(value=9033),\n  Row(value=9034),\n  Row(value=9035),\n  Row(value=9036),\n  Row(value=9037),\n  Row(value=9038),\n  Row(value=9039),\n  Row(value=9040),\n  Row(value=9041),\n  Row(value=9042),\n  Row(value=9043),\n  Row(value=9044),\n  Row(value=9045),\n  Row(value=9046),\n  Row(value=9047),\n  Row(value=9048),\n  Row(value=9049),\n  Row(value=9050),\n  Row(value=9051),\n  Row(value=9052),\n  Row(value=9053),\n  Row(value=9054),\n  Row(value=9055),\n  Row(value=9056),\n  Row(value=9057),\n  Row(value=9058),\n  Row(value=9059),\n  Row(value=9060),\n  Row(value=9061),\n  Row(value=9062),\n  Row(value=9063),\n  Row(value=9064),\n  Row(value=9065),\n  Row(value=9066),\n  Row(value=9067),\n  Row(value=9068),\n  Row(value=9069),\n  Row(value=9070),\n  Row(value=9071),\n  Row(value=9072),\n  Row(value=9073),\n  Row(value=9074),\n  Row(value=9075),\n  Row(value=9076),\n  Row(value=9077),\n  Row(value=9078),\n  Row(value=9079),\n  Row(value=9080),\n  Row(value=9081),\n  Row(value=9082),\n  Row(value=9083),\n  Row(value=9084),\n  Row(value=9085),\n  Row(value=9086),\n  Row(value=9087),\n  Row(value=9088),\n  Row(value=9089),\n  Row(value=9090),\n  Row(value=9091),\n  Row(value=9092),\n  Row(value=9093),\n  Row(value=9094),\n  Row(value=9095),\n  Row(value=9096),\n  Row(value=9097),\n  Row(value=9098),\n  Row(value=9099),\n  Row(value=9100),\n  Row(value=9101),\n  Row(value=9102),\n  Row(value=9103),\n  Row(value=9104),\n  Row(value=9105),\n  Row(value=9106),\n  Row(value=9107),\n  Row(value=9108),\n  Row(value=9109),\n  Row(value=9110),\n  Row(value=9111),\n  Row(value=9112),\n  Row(value=9113),\n  Row(value=9114),\n  Row(value=9115),\n  Row(value=9116),\n  Row(value=9117),\n  Row(value=9118),\n  Row(value=9119),\n  Row(value=9120),\n  Row(value=9121),\n  Row(value=9122),\n  Row(value=9123),\n  Row(value=9124),\n  Row(value=9125),\n  Row(value=9126),\n  Row(value=9127),\n  Row(value=9128),\n  Row(value=9129),\n  Row(value=9130),\n  Row(value=9131),\n  Row(value=9132),\n  Row(value=9133),\n  Row(value=9134),\n  Row(value=9135),\n  Row(value=9136),\n  Row(value=9137),\n  Row(value=9138),\n  Row(value=9139),\n  Row(value=9140),\n  Row(value=9141),\n  Row(value=9142),\n  Row(value=9143),\n  Row(value=9144),\n  Row(value=9145),\n  Row(value=9146),\n  Row(value=9147),\n  Row(value=9148),\n  Row(value=9149),\n  Row(value=9150),\n  Row(value=9151),\n  Row(value=9152),\n  Row(value=9153),\n  Row(value=9154),\n  Row(value=9155),\n  Row(value=9156),\n  Row(value=9157),\n  Row(value=9158),\n  Row(value=9159),\n  Row(value=9160),\n  Row(value=9161),\n  Row(value=9162),\n  Row(value=9163),\n  Row(value=9164),\n  Row(value=9165),\n  Row(value=9166),\n  Row(value=9167),\n  Row(value=9168),\n  Row(value=9169),\n  Row(value=9170),\n  Row(value=9171),\n  Row(value=9172),\n  Row(value=9173),\n  Row(value=9174),\n  Row(value=9175),\n  Row(value=9176),\n  Row(value=9177),\n  Row(value=9178),\n  Row(value=9179),\n  Row(value=9180),\n  Row(value=9181),\n  Row(value=9182),\n  Row(value=9183),\n  Row(value=9184),\n  Row(value=9185),\n  Row(value=9186),\n  Row(value=9187),\n  Row(value=9188),\n  Row(value=9189),\n  Row(value=9190),\n  Row(value=9191),\n  ...]]"
     ]
    }
   ],
   "source": [
    "# This will show how the data get partitioned in the 8 Partitions\n",
    "df.rdd.glom().collect()"
   ]
  },
  {
   "cell_type": "markdown",
   "metadata": {
    "application/vnd.databricks.v1+cell": {
     "cellMetadata": {},
     "inputWidgets": {},
     "nuid": "ebd8473d-3def-4215-8482-3d684c317e90",
     "showTitle": false,
     "tableResultSettingsMap": {},
     "title": ""
    }
   },
   "source": [
    "### The Fundamental concept of Spark DataFrames is basically runs of Partitions, lets say if we have 1000 pages book, we just dont put all the necessary content in just one single page, instead we put it all the 1000 pages equally, in the same way we divide DataFrames into equal partitions and process them parllelly. "
   ]
  },
  {
   "cell_type": "markdown",
   "metadata": {
    "application/vnd.databricks.v1+cell": {
     "cellMetadata": {},
     "inputWidgets": {},
     "nuid": "8c1db210-a882-46db-a10e-902257882d82",
     "showTitle": false,
     "tableResultSettingsMap": {},
     "title": ""
    }
   },
   "source": [
    "## In Pyspark, we can do partitions in two different ways\n",
    "## - repartition()\n",
    "## - coalesce()"
   ]
  },
  {
   "cell_type": "markdown",
   "metadata": {
    "application/vnd.databricks.v1+cell": {
     "cellMetadata": {},
     "inputWidgets": {},
     "nuid": "f1e39d6b-0fbb-4834-8540-4ba90be63019",
     "showTitle": false,
     "tableResultSettingsMap": {},
     "title": ""
    }
   },
   "source": [
    "| Advantage             | Why It Matters                      |\n",
    "| --------------------- | ----------------------------------- |\n",
    "| Parallelism           | Speeds up processing using all CPUs |\n",
    "| Resource efficiency   | Keeps all workers busy and balanced |\n",
    "| Control output files  | Fewer, bigger files = faster I/O    |\n",
    "| Better joins/grouping | Less shuffling, more efficient      |\n",
    "| Smart data storage    | Faster queries on partitioned files |\n"
   ]
  },
  {
   "cell_type": "code",
   "execution_count": 0,
   "metadata": {
    "application/vnd.databricks.v1+cell": {
     "cellMetadata": {
      "byteLimit": 2048000,
      "rowLimit": 10000
     },
     "inputWidgets": {},
     "nuid": "4cbd85f1-be11-42d7-8640-7fa7acf6e782",
     "showTitle": false,
     "tableResultSettingsMap": {},
     "title": ""
    }
   },
   "outputs": [
    {
     "output_type": "stream",
     "name": "stdout",
     "output_type": "stream",
     "text": [
      "Out[31]: [FileInfo(path='dbfs:/FileStore/tables/Online_Retail-1.csv', name='Online_Retail-1.csv', size=46133248, modificationTime=1744228374000),\n FileInfo(path='dbfs:/FileStore/tables/Online_Retail-2.csv', name='Online_Retail-2.csv', size=46133248, modificationTime=1744228637000),\n FileInfo(path='dbfs:/FileStore/tables/Online_Retail-3.csv', name='Online_Retail-3.csv', size=46133248, modificationTime=1744229258000),\n FileInfo(path='dbfs:/FileStore/tables/Online_Retail-4.csv', name='Online_Retail-4.csv', size=46133248, modificationTime=1744229659000),\n FileInfo(path='dbfs:/FileStore/tables/Online_Retail-5.csv', name='Online_Retail-5.csv', size=46133248, modificationTime=1744313114000),\n FileInfo(path='dbfs:/FileStore/tables/Online_Retail.csv', name='Online_Retail.csv', size=46133248, modificationTime=1744221409000),\n FileInfo(path='dbfs:/FileStore/tables/Online_Retail.xlsx', name='Online_Retail.xlsx', size=23715344, modificationTime=1744220158000),\n FileInfo(path='dbfs:/FileStore/tables/retail/', name='retail/', size=0, modificationTime=0)]"
     ]
    }
   ],
   "source": [
    "dbutils.fs.ls('/FileStore/tables/')"
   ]
  },
  {
   "cell_type": "code",
   "execution_count": 0,
   "metadata": {
    "application/vnd.databricks.v1+cell": {
     "cellMetadata": {
      "byteLimit": 2048000,
      "rowLimit": 10000
     },
     "inputWidgets": {},
     "nuid": "d3c4d7ae-8537-4f07-afcb-82cef21fa847",
     "showTitle": false,
     "tableResultSettingsMap": {},
     "title": ""
    }
   },
   "outputs": [],
   "source": [
    "df = spark.read.format('csv')\\\n",
    "    .option('inferSchema',True)\\\n",
    "    .option('header',True)\\\n",
    "    .load('dbfs:/FileStore/tables/Online_Retail.csv')"
   ]
  },
  {
   "cell_type": "code",
   "execution_count": 0,
   "metadata": {
    "application/vnd.databricks.v1+cell": {
     "cellMetadata": {
      "byteLimit": 2048000,
      "rowLimit": 10000
     },
     "inputWidgets": {},
     "nuid": "aa32a61e-ddb4-4a58-a3a8-721a12333ab2",
     "showTitle": false,
     "tableResultSettingsMap": {},
     "title": ""
    }
   },
   "outputs": [],
   "source": [
    "df.createOrReplaceTempView(\"dfTable\")"
   ]
  },
  {
   "cell_type": "code",
   "execution_count": 0,
   "metadata": {
    "application/vnd.databricks.v1+cell": {
     "cellMetadata": {},
     "inputWidgets": {},
     "nuid": "076b6dd5-4d13-49e2-91a7-7b06915860ab",
     "showTitle": false,
     "tableResultSettingsMap": {},
     "title": ""
    }
   },
   "outputs": [],
   "source": [
    "# This will let us know the default the Number of Partitions that we have (we can change this based on our needs to improve the performace)\n",
    "sc.defaultParallelism"
   ]
  },
  {
   "cell_type": "code",
   "execution_count": 0,
   "metadata": {
    "application/vnd.databricks.v1+cell": {
     "cellMetadata": {},
     "inputWidgets": {},
     "nuid": "53bcceab-7eeb-4408-a1b7-9fa04289fd44",
     "showTitle": false,
     "tableResultSettingsMap": {},
     "title": ""
    }
   },
   "outputs": [],
   "source": [
    "# This will let us know the max size of data that each partiton should have that is 128 MB (we can change this based on our needs to improve the performace)\n",
    "spark.conf.get(\"spark.sql.files.maxPartitionBytes\")"
   ]
  },
  {
   "cell_type": "markdown",
   "metadata": {
    "application/vnd.databricks.v1+cell": {
     "cellMetadata": {},
     "inputWidgets": {},
     "nuid": "a9239046-6e28-49e4-a602-0e9a4ca4522b",
     "showTitle": false,
     "tableResultSettingsMap": {},
     "title": ""
    }
   },
   "source": [
    "# 1.  repartition()\n",
    "repartition(n) is a method used to change the number of partitions in a DataFrame by reshuffling the data, _**by using this function we ask spark to reshuffle this data into n evenly-sized chunks**_.\n",
    "\n",
    "### **Why Use repartition()?**\n",
    "- To increase or decrease the number of partitions.\n",
    "- To balance the data across partitions for better performance.\n",
    "- To prepare the data for joins, groupBy, or writing to disk efficiently.\n",
    "\n",
    "| Feature                  |   repartition()                          |\n",
    "| ------------------------ | ---------------------------------------- |\n",
    "| Shuffles data?           | ✅ Yes (data is moved around the cluster) |\n",
    "| Can increase partitions? | ✅ Yes                                    |\n",
    "| Can decrease partitions? | ✅ Yes                                    |\n",
    "| Speed                    | 🐢 Slower (because of the shuffle)       |\n",
    "| Data Balance             | ✅ Better (after shuffle)                 |\n",
    "\n",
    "\n",
    "\n",
    "## When Should You Use repartition()?\n",
    "✅ Use it when:\n",
    "\n",
    "\n",
    "- You are increasing the number of partitions\n",
    "e.g., data is too big for current partitions, and you want more parallelism.\n",
    "- You’re preparing for a heavy operation like:\n",
    "join\n",
    "groupBy\n",
    "distinct\n",
    "These work better if data is evenly partitioned.\n",
    "- You want to avoid skew (data imbalance)\n",
    "\n",
    "❌ When Not to Use repartition()\n",
    "- If you're just reducing partitions, and performance matters → use coalesce() instead (faster, no shuffle).\n",
    "\n",
    "\n",
    "\n",
    "### Imagine your data is a deck of cards:\n",
    "\n",
    "### Before:\n",
    "You have 2 piles (partitions) like this:\n",
    "\n",
    "\n",
    "- [♠♣♥♦♠♣♠] [♥♦♥♦♣♠♦]\n",
    "\n",
    "### repartition(4):\n",
    "Cards are reshuffled and split into 4 piles evenly:\n",
    "- [♠♦] [♣♠] [♥♠] [♦♣]\n",
    "### coalesce(2):\n",
    "You just merge existing piles (no shuffling):\n",
    "- [♠♣♥♦♠♣♠♥] [♦♥♦♣♠♦]\n",
    "\n",
    "### ✨ Bonus: Repartition by Column\n",
    "You can repartition based on a column, which helps group related data together:\n",
    "\n",
    "### df.repartition(10, \"category\")\n",
    "\n",
    "This tells Spark:\n",
    "\n",
    "- “Put all rows with the same category value into the same partition (as much as possible).”\n",
    "\n",
    "- ✅ Helpful for joins and filtering!\n",
    "\n",
    "### Without Repartition — Random Distribution:\n",
    "\n",
    "- Partition 1: [ A, C ]\n",
    "- Partition 2: [ B, A ]\n",
    "- Partition 3: [ C, B ]\n",
    "\n",
    "\n",
    "\n",
    "### With df.repartition(3, \"Category\"):\n",
    "\n",
    "- Partition 1: [ A, A, A ]\n",
    "- Partition 2: [ B, B, B ]\n",
    "- Partition 3: [ C, C ]"
   ]
  },
  {
   "cell_type": "code",
   "execution_count": 0,
   "metadata": {
    "application/vnd.databricks.v1+cell": {
     "cellMetadata": {
      "byteLimit": 2048000,
      "rowLimit": 10000
     },
     "inputWidgets": {},
     "nuid": "3fb66ed3-d146-41e4-a928-a188b465a211",
     "showTitle": false,
     "tableResultSettingsMap": {},
     "title": ""
    }
   },
   "outputs": [
    {
     "output_type": "stream",
     "name": "stdout",
     "output_type": "stream",
     "text": [
      "Before: 8\n"
     ]
    }
   ],
   "source": [
    "# Check current number of partitions\n",
    "print(\"Before:\", df.rdd.getNumPartitions())"
   ]
  },
  {
   "cell_type": "code",
   "execution_count": 0,
   "metadata": {
    "application/vnd.databricks.v1+cell": {
     "cellMetadata": {
      "byteLimit": 2048000,
      "rowLimit": 10000
     },
     "inputWidgets": {},
     "nuid": "72d12e0e-c9f8-48ff-b3ef-e045531795ba",
     "showTitle": false,
     "tableResultSettingsMap": {},
     "title": ""
    }
   },
   "outputs": [],
   "source": [
    "# Repartition to 10 partitions\n",
    "df2 = df.repartition(10)"
   ]
  },
  {
   "cell_type": "code",
   "execution_count": 0,
   "metadata": {
    "application/vnd.databricks.v1+cell": {
     "cellMetadata": {
      "byteLimit": 2048000,
      "rowLimit": 10000
     },
     "inputWidgets": {},
     "nuid": "bc3179ca-adfc-428e-8105-8a2ec442feeb",
     "showTitle": false,
     "tableResultSettingsMap": {},
     "title": ""
    }
   },
   "outputs": [
    {
     "output_type": "stream",
     "name": "stdout",
     "output_type": "stream",
     "text": [
      "After: 10\n"
     ]
    }
   ],
   "source": [
    "print(\"After:\", df2.rdd.getNumPartitions())"
   ]
  },
  {
   "cell_type": "code",
   "execution_count": 0,
   "metadata": {
    "application/vnd.databricks.v1+cell": {
     "cellMetadata": {
      "byteLimit": 2048000,
      "rowLimit": 10000
     },
     "inputWidgets": {},
     "nuid": "df7b35ae-c9db-434b-8f35-6961f66a2e42",
     "showTitle": false,
     "tableResultSettingsMap": {},
     "title": ""
    }
   },
   "outputs": [
    {
     "output_type": "stream",
     "name": "stdout",
     "output_type": "stream",
     "text": [
      "Out[4]: 8"
     ]
    }
   ],
   "source": [
    "spark.sparkContext.defaultParallelism"
   ]
  },
  {
   "cell_type": "code",
   "execution_count": 0,
   "metadata": {
    "application/vnd.databricks.v1+cell": {
     "cellMetadata": {
      "byteLimit": 2048000,
      "rowLimit": 10000
     },
     "inputWidgets": {},
     "nuid": "1266e3e0-3bf5-449b-a796-53be6e4b5560",
     "showTitle": false,
     "tableResultSettingsMap": {},
     "title": ""
    }
   },
   "outputs": [],
   "source": [
    "#Partitons by Category\n",
    "df2 = df.repartition(10,'Country')"
   ]
  },
  {
   "cell_type": "markdown",
   "metadata": {
    "application/vnd.databricks.v1+cell": {
     "cellMetadata": {},
     "inputWidgets": {},
     "nuid": "6a341f5a-3841-4fb2-8bc8-229f5c3d4bf0",
     "showTitle": false,
     "tableResultSettingsMap": {},
     "title": ""
    }
   },
   "source": [
    "# 2. coalesce()\n",
    "\n",
    "**coalesce(n)** is used to reduce the number of partitions without doing a full shuffle of the data , this function tells spark to _**combine some of the existing partitions to create fewer partitions — but don't move data around too much**_.\"\n",
    "\n",
    "## Why Use coalesce()?\n",
    "- You want to reduce the number of partitions (usually before writing data to disk).\n",
    "- You want fewer output files.\n",
    "- You want to avoid a full shuffle (which repartition() does).\n",
    "\n",
    "## When is it Useful?\n",
    "✅ Example: Writing Data\n",
    "- Let’s say Spark made 200 partitions, and you want 5 output files, not 200!\n",
    "### df.coalesce(5).write.parquet(\"output/\")\n",
    "✔️ This combines the 200 partitions into 5, without a heavy shuffle, and writes only 5 files.\n",
    "\n",
    "### Visual Example\n",
    "🔹 Before (6 Partitions):\n",
    "- [ A1 A2 ]   [ B1 ]   [ C1 ]   [ D1 D2 ]   [ E1 ]   [ F1 F2 ]\n",
    "### df.coalesce(3):\n",
    "- [ A1 A2 B1 ]   [ C1 D1 D2 ]   [ E1 F1 F2 ]\n",
    "#### ✔️ Spark merges existing partitions.\n",
    "#### ❌ Does not rebalance or reshuffle the data.\n",
    "\n",
    "### Key Difference vs repartition()\n",
    "\n",
    "| Feature                  | `coalesce()`                 | `repartition()`              |\n",
    "| ------------------------ | ---------------------------- | ---------------------------- |\n",
    "| Can increase partitions? | ❌ No                         | ✅ Yes                        |\n",
    "| Can decrease partitions? | ✅ Yes                        | ✅ Yes                        |\n",
    "| Shuffles data?           | ❌ No shuffle                 | ✅ Full shuffle               |\n",
    "| Speed                    | 🚀 Faster (no shuffle)       | 🐢 Slower (shuffle happens)  |\n",
    "| Balancing                | ❌ May be uneven              | ✅ Balanced across partitions |\n",
    "| Use when                 | Reducing file count, writing | Balancing for joins/groupBy  |\n",
    "\n",
    "\n",
    "### 📌 When Should You Use coalesce()?\n",
    "✅ Best time to use:\n",
    "- Just before writing to disk, e.g., Parquet/CSV\n",
    "- When you want to reduce number of files\n",
    "\n",
    "### ❌ Avoid using coalesce():\n",
    "If you need evenly balanced partitions for processing → use repartition() instead."
   ]
  },
  {
   "cell_type": "code",
   "execution_count": 0,
   "metadata": {
    "application/vnd.databricks.v1+cell": {
     "cellMetadata": {
      "byteLimit": 2048000,
      "rowLimit": 10000
     },
     "inputWidgets": {},
     "nuid": "46bd9559-b18f-4967-ac04-4e330a93e15d",
     "showTitle": false,
     "tableResultSettingsMap": {},
     "title": ""
    }
   },
   "outputs": [],
   "source": [
    "# reduce the data to 2 partitions before writing\n",
    "df.coalesce(2).write.csv(\"FileStore/tables/retail/\")"
   ]
  },
  {
   "cell_type": "markdown",
   "metadata": {
    "application/vnd.databricks.v1+cell": {
     "cellMetadata": {},
     "inputWidgets": {},
     "nuid": "47f95e88-60f5-48b0-99c0-96f5697c48db",
     "showTitle": false,
     "tableResultSettingsMap": {},
     "title": ""
    }
   },
   "source": [
    "# 🧠 Pro Tip\n",
    "If you're unsure:\n",
    "\n",
    "✅ Use coalesce() when reducing partitions before writing\n",
    "\n",
    "✅ Use repartition() when processing and balancing data"
   ]
  },
  {
   "cell_type": "markdown",
   "metadata": {
    "application/vnd.databricks.v1+cell": {
     "cellMetadata": {},
     "inputWidgets": {},
     "nuid": "fdae7363-4d3d-43c2-aab1-24a3ca421f9b",
     "showTitle": false,
     "tableResultSettingsMap": {},
     "title": ""
    }
   },
   "source": [
    "#3. combine repartition() and coalesce() \n",
    "we can combine repartition() and coalesce() in PySpark — and in fact, this is a smart strategy in real-world data engineering.\n",
    "\n",
    "### Why Combine Them?\n",
    "Because they serve different purposes:\n",
    "\n",
    "- repartition() → balances data (for processing)\n",
    "- coalesce() → reduces partitions (for writing)\n",
    "\n",
    "\n",
    "### 🔁 What’s happening here?\n",
    "- repartition() helps Spark rebalance and optimize computation (like joins, groupBy, etc.)\n",
    "- coalesce() helps you avoid writing 100 tiny files by merging partitions before saving.\n",
    "\n",
    "### ⚠️ Important Notes\n",
    "- Always do repartition() before expensive operations.\n",
    "- Use coalesce() only before writing to disk.\n",
    "- Don’t use coalesce() if you're going to continue processing — it's unbalanced and may slow things down.\n",
    "\n",
    "### 📊 Summary\n",
    "| Use Case                    | Function Used                         |\n",
    "| --------------------------- | ------------------------------------- |\n",
    "| Balance data for joins      | `repartition()`                       |\n",
    "| Reduce file count           | `coalesce()`                          |\n",
    "| Combined use (best of both) | `repartition()` → work → `coalesce()` |\n",
    "\n",
    "\n",
    "The Typical Patterns is as follows:\n"
   ]
  },
  {
   "cell_type": "code",
   "execution_count": 0,
   "metadata": {
    "application/vnd.databricks.v1+cell": {
     "cellMetadata": {
      "byteLimit": 2048000,
      "rowLimit": 10000
     },
     "inputWidgets": {},
     "nuid": "ae028e7b-63ba-4b3d-87b6-21bebaceac0f",
     "showTitle": false,
     "tableResultSettingsMap": {},
     "title": ""
    }
   },
   "outputs": [],
   "source": [
    "from pyspark.sql.functions import *\n",
    "\n",
    "# 1. Repartition for balanced processing (e.g. for joins)\n",
    "df2 = df.repartition(100, \"Country\")\n",
    "\n",
    "# Do some heavy transformations...\n",
    "df2 = df2.groupBy(\"Country\").agg(sum(col('Quantity').cast(\"int\")).alias('TotalQuantity'))\n",
    "\n",
    "# 2. Coalesce to reduce output files (faster write)\n",
    "df2.coalesce(6).write.parquet(\"CountryQuantity\")"
   ]
  },
  {
   "cell_type": "code",
   "execution_count": 0,
   "metadata": {
    "application/vnd.databricks.v1+cell": {
     "cellMetadata": {
      "byteLimit": 2048000,
      "rowLimit": 10000
     },
     "inputWidgets": {},
     "nuid": "80778049-3f84-48e8-8e6b-262edc022e45",
     "showTitle": false,
     "tableResultSettingsMap": {},
     "title": ""
    }
   },
   "outputs": [
    {
     "output_type": "display_data",
     "data": {
      "text/html": [
       "<style scoped>\n",
       "  .table-result-container {\n",
       "    max-height: 300px;\n",
       "    overflow: auto;\n",
       "  }\n",
       "  table, th, td {\n",
       "    border: 1px solid black;\n",
       "    border-collapse: collapse;\n",
       "  }\n",
       "  th, td {\n",
       "    padding: 5px;\n",
       "  }\n",
       "  th {\n",
       "    text-align: left;\n",
       "  }\n",
       "</style><div class='table-result-container'><table class='table-result'><thead style='background-color: white'><tr><th>Country</th><th>TotalQuantity</th></tr></thead><tbody><tr><td>Hong Kong</td><td>4769</td></tr><tr><td>Iceland</td><td>2458</td></tr><tr><td>Israel</td><td>4353</td></tr><tr><td>Channel Islands</td><td>9479</td></tr><tr><td>Sweden</td><td>35637</td></tr><tr><td>USA</td><td>1034</td></tr><tr><td>Cyprus</td><td>6317</td></tr><tr><td>Singapore</td><td>5234</td></tr><tr><td>Germany</td><td>117448</td></tr><tr><td>RSA</td><td>352</td></tr><tr><td>France</td><td>110480</td></tr><tr><td>Greece</td><td>1556</td></tr><tr><td>Saudi Arabia</td><td>75</td></tr><tr><td>Switzerland</td><td>30325</td></tr><tr><td>United Arab Emirates</td><td>982</td></tr><tr><td>European Community</td><td>497</td></tr><tr><td>Belgium</td><td>23152</td></tr><tr><td>Canada</td><td>2763</td></tr><tr><td>Finland</td><td>10666</td></tr><tr><td>Czech Republic</td><td>592</td></tr><tr><td>Brazil</td><td>356</td></tr><tr><td>Lebanon</td><td>386</td></tr><tr><td>Malta</td><td>944</td></tr><tr><td>Japan</td><td>25218</td></tr><tr><td>Poland</td><td>3653</td></tr><tr><td>Portugal</td><td>16180</td></tr><tr><td>Unspecified</td><td>3300</td></tr><tr><td>Australia</td><td>83653</td></tr><tr><td>Italy</td><td>7999</td></tr><tr><td>EIRE</td><td>142637</td></tr><tr><td>Austria</td><td>4827</td></tr><tr><td>Lithuania</td><td>652</td></tr><tr><td>Norway</td><td>19247</td></tr><tr><td>Spain</td><td>26824</td></tr><tr><td>Bahrain</td><td>260</td></tr><tr><td>Denmark</td><td>8188</td></tr><tr><td>United Kingdom</td><td>4263829</td></tr><tr><td>Netherlands</td><td>200128</td></tr></tbody></table></div>"
      ]
     },
     "metadata": {
      "application/vnd.databricks.v1+output": {
       "addedWidgets": {},
       "aggData": [],
       "aggError": "",
       "aggOverflow": false,
       "aggSchema": [],
       "aggSeriesLimitReached": false,
       "aggType": "",
       "arguments": {},
       "columnCustomDisplayInfos": {},
       "data": [
        [
         "Hong Kong",
         4769
        ],
        [
         "Iceland",
         2458
        ],
        [
         "Israel",
         4353
        ],
        [
         "Channel Islands",
         9479
        ],
        [
         "Sweden",
         35637
        ],
        [
         "USA",
         1034
        ],
        [
         "Cyprus",
         6317
        ],
        [
         "Singapore",
         5234
        ],
        [
         "Germany",
         117448
        ],
        [
         "RSA",
         352
        ],
        [
         "France",
         110480
        ],
        [
         "Greece",
         1556
        ],
        [
         "Saudi Arabia",
         75
        ],
        [
         "Switzerland",
         30325
        ],
        [
         "United Arab Emirates",
         982
        ],
        [
         "European Community",
         497
        ],
        [
         "Belgium",
         23152
        ],
        [
         "Canada",
         2763
        ],
        [
         "Finland",
         10666
        ],
        [
         "Czech Republic",
         592
        ],
        [
         "Brazil",
         356
        ],
        [
         "Lebanon",
         386
        ],
        [
         "Malta",
         944
        ],
        [
         "Japan",
         25218
        ],
        [
         "Poland",
         3653
        ],
        [
         "Portugal",
         16180
        ],
        [
         "Unspecified",
         3300
        ],
        [
         "Australia",
         83653
        ],
        [
         "Italy",
         7999
        ],
        [
         "EIRE",
         142637
        ],
        [
         "Austria",
         4827
        ],
        [
         "Lithuania",
         652
        ],
        [
         "Norway",
         19247
        ],
        [
         "Spain",
         26824
        ],
        [
         "Bahrain",
         260
        ],
        [
         "Denmark",
         8188
        ],
        [
         "United Kingdom",
         4263829
        ],
        [
         "Netherlands",
         200128
        ]
       ],
       "datasetInfos": [],
       "dbfsResultPath": null,
       "isJsonSchema": true,
       "metadata": {},
       "overflow": false,
       "plotOptions": {
        "customPlotOptions": {},
        "displayType": "table",
        "pivotAggregation": null,
        "pivotColumns": null,
        "xColumns": null,
        "yColumns": null
       },
       "removedWidgets": [],
       "schema": [
        {
         "metadata": "{}",
         "name": "Country",
         "type": "\"string\""
        },
        {
         "metadata": "{}",
         "name": "TotalQuantity",
         "type": "\"long\""
        }
       ],
       "type": "table"
      }
     },
     "output_type": "display_data"
    }
   ],
   "source": [
    "df2.display()"
   ]
  }
 ],
 "metadata": {
  "application/vnd.databricks.v1+notebook": {
   "computePreferences": null,
   "dashboards": [],
   "environmentMetadata": {
    "base_environment": "",
    "environment_version": "1"
   },
   "inputWidgetPreferences": null,
   "language": "python",
   "notebookMetadata": {
    "pythonIndentUnit": 4
   },
   "notebookName": "Partitions",
   "widgets": {}
  }
 },
 "nbformat": 4,
 "nbformat_minor": 0
}